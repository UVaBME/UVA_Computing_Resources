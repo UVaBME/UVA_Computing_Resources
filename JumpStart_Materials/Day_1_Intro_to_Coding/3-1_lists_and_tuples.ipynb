{
 "cells": [
  {
   "cell_type": "markdown",
   "metadata": {},
   "source": [
    "# Lesson 3: Avoiding repetition with Lists and Loops\n",
    "\n",
    "To this point, we have focused on variables holding a single value or operations performed only once. But, what if we have many values that we want to store or many operations that we want to perform? This is where lists and loops come in. In this module, we will learn how to harness the power of lists and loops to make our code more efficient and powerful.\n",
    "\n",
    "Learning objectives of this module:\n",
    "1. __Learn the purpose of lists, how to create one, and how to manipulate them.__\n",
    "2. Learn how to use loops to repeat operations, including how to use loops to iterate through lists. There are two main types of loops we will discuss:\n",
    "    - For loops\n",
    "    - While loops\n",
    "3. Learn how to combine loops with conditionals to create more complex programs.\n",
    "4. Briefly introduce the idea of vectorized operations and numpy arrays: a more efficient way to perform operations on lists of numbers."
   ]
  },
  {
   "cell_type": "markdown",
   "metadata": {},
   "source": [
    "## Lists"
   ]
  },
  {
   "cell_type": "markdown",
   "metadata": {},
   "source": [
    "### Creating lists and accessing the items within them\n",
    "\n",
    "Let's say we just ran an experiment where we were testing the efficacy of a drug for reducing tumor size in mice, in which 3 mice were treated with drug and 3 mice were treated with a control solution. We measured the size of the tumor at the end of treatment. We want to store this data in a way that we can easily access it later. Given what we currently know, we could do this:"
   ]
  },
  {
   "cell_type": "code",
   "execution_count": null,
   "metadata": {},
   "outputs": [],
   "source": [
    "# drug replicates\n",
    "drug_rep1 = 0.1\n",
    "drug_rep2 = 0.5\n",
    "drug_rep3 = 0.3\n",
    "\n",
    "# control replicates\n",
    "control_rep1 = 1.5\n",
    "control_rep2 = 1.2\n",
    "control_rep3 = 0.9"
   ]
  },
  {
   "cell_type": "markdown",
   "metadata": {},
   "source": [
    "But this is tedious, and if we had any more than three replicates that would be a lot of typing. Instead, we can create a __list__ for each condition to hold all replicates:"
   ]
  },
  {
   "cell_type": "code",
   "execution_count": null,
   "metadata": {},
   "outputs": [],
   "source": [
    "drug = [0.1, 0.5, 0.3]\n",
    "control = [1.5, 1.2, 0.9]"
   ]
  },
  {
   "cell_type": "markdown",
   "metadata": {},
   "source": [
    "Much easier to work with! The lists we just created are ordered, which means we can quickly access any element in the list by its __index__.\n",
    "\n",
    "As a generic example, let's say we have a simple list that counts up from 0 to 5:"
   ]
  },
  {
   "cell_type": "code",
   "execution_count": null,
   "metadata": {},
   "outputs": [],
   "source": [
    "#initialize list\n",
    "my_list = [1, 2, 3, 4, 5]\n",
    "\n",
    "#output the entire list\n",
    "print(my_list)"
   ]
  },
  {
   "cell_type": "markdown",
   "metadata": {},
   "source": [
    "If we want an individual element, we need to access it at the appropriate index using brackets after our list name: `my_list[index]`. The following table shows how you can access each element in this list. Notice that it is possible for us to use negative indices, which will count backwards from the end of the list.\n",
    "\n",
    "| Value of Item in List | 1 | 2 | 3 | 4 | 5 |\n",
    "|---------------|---|---|---|---|---|\n",
    "| Forward Index | 0 | 1 | 2 | 3 | 4 |\n",
    "| Reverse Index | -5 | -4 | -3 | -2 | -1 |"
   ]
  },
  {
   "cell_type": "code",
   "execution_count": null,
   "metadata": {},
   "outputs": [],
   "source": [
    "print(my_list[0]) #first element\n",
    "print(my_list[1]) #second element\n",
    "print(my_list[2]) #third element"
   ]
  },
  {
   "cell_type": "markdown",
   "metadata": {},
   "source": [
    "If we try to access an index that is too large (greater than the size of our list), we will get an error:"
   ]
  },
  {
   "cell_type": "code",
   "execution_count": null,
   "metadata": {},
   "outputs": [],
   "source": [
    "print(my_list[10])"
   ]
  },
  {
   "cell_type": "markdown",
   "metadata": {},
   "source": [
    "Notice from our table that it is also possible for us to use negative indices, which will count backwards from the end of the list. For example, if we want the last item of the list, we have two options. We can access like above with `drug[2]`, or we could use a negative index to access the last item of the list, `drug[-1]`."
   ]
  },
  {
   "cell_type": "code",
   "execution_count": null,
   "metadata": {},
   "outputs": [],
   "source": [
    "print(drug[-1], 'is the same as', drug[2])"
   ]
  },
  {
   "cell_type": "markdown",
   "metadata": {},
   "source": [
    "We can also use __slice__ notation to get a subset of the list, denoted by `myList[start:stop:step]`. This notation will tell python to return all items between the `start` and `stop` values (including the start item but excluding the stop item), with a specific `step` size. By default, the step size is 1 and you do not have to provide this value. So let's say we only want to get the first two replicates of our drug condition, we can do that like this:"
   ]
  },
  {
   "cell_type": "code",
   "execution_count": null,
   "metadata": {},
   "outputs": [],
   "source": [
    "print(drug[0:2])"
   ]
  },
  {
   "cell_type": "markdown",
   "metadata": {},
   "source": [
    "Notice that the last number is in our slice is not included in the result. In python, slices are always exclusive at the end, so '0:2' means output all elements from 0 to 2, but not including 2. This can be a point of confusion, so always make sure you are aware of this and are grabbing all the elements you want. Note that you can also leave the start or stop blank, which means that it will start at the beginning or go all the way to the end. For example, `drug[:2]` will return the same thing as above.\n",
    "\n",
    "If it still doesn't quite make sense, another way to visualize slicing is through these figures from the Python Simplified tutorial [here](https://pythonsimplified.com/understanding-indexing-and-slicing-in-python/).\n",
    "\n",
    "```my_list = [10,20,30,40,50,60,70,80,90,100]``` \n",
    "\n",
    "*Slice with a step size of 1*:\n",
    "\n",
    "\n",
    "![Example of Slice Notation](https://cdn-0.pythonsimplified.com/wp-content/uploads/2021/06/python-slicing-ex1-1024x332.jpg?ezimgfmt=ng:webp/ngcb3)\n",
    "\n",
    "*Slice with a step size of 2*:\n",
    "\n",
    "![Example of Slice Notation](https://cdn-0.pythonsimplified.com/wp-content/uploads/2021/06/python-slicing-ex2-1024x425.jpg?ezimgfmt=ng:webp/ngcb3)"
   ]
  },
  {
   "cell_type": "markdown",
   "metadata": {},
   "source": [
    "#### Exercise 3.1.1"
   ]
  },
  {
   "cell_type": "markdown",
   "metadata": {},
   "source": [
    "Let's practice indexing on a larger list. Running the below code which will generate a list with 100 items, counting from 1 to 100. Don't worry too much about these details for now, but the `range()` function is a builtin python function that generates a list of numbers from the provided start value (1) to the stop value (101), similar to slices discussed previously. The `list()` function converts the range object outputted by `range()` to a list."
   ]
  },
  {
   "cell_type": "markdown",
   "metadata": {},
   "source": [
    "Editing the below code block, return the following items:\n",
    "1. The first item in the list = 1\n",
    "2. The last item in the list = 100\n",
    "3. The 50th item in the list = 50\n",
    "4. The 10th, 11th, and 12th item in the list = [10, 11, 12]\n",
    "5. The last 5 items in the list = [96, 97, 98, 99, 100]\n",
    "6. The 3rd, 6th, and 9th item in the list = [3, 6, 9]\n",
    "7. Play around a bit! "
   ]
  },
  {
   "cell_type": "code",
   "execution_count": null,
   "metadata": {},
   "outputs": [],
   "source": [
    "#initialize list from 1 to 100\n",
    "my_long_list = list(range(1, 101))\n",
    "\n",
    "#edit the code here to output specific elements from the list\n",
    "my_output = my_long_list\n",
    "print(my_output)"
   ]
  },
  {
   "cell_type": "markdown",
   "metadata": {},
   "source": [
    "### Multidimensional or multi-type lists\n",
    "\n",
    "Lists are not restricted to holding a single data type. If you wanted you could have a list consisting of both ints, floats, and strings:"
   ]
  },
  {
   "cell_type": "code",
   "execution_count": null,
   "metadata": {},
   "outputs": [],
   "source": [
    "my_multitype_list = [1, 2, 3.0, \"four\", \"five\", \"six\"]"
   ]
  },
  {
   "cell_type": "markdown",
   "metadata": {},
   "source": [
    "In most cases, this isn't recommended and there aren't many use cases where this would be beneficial. But, what this also allows to do is create __nested lists__, or lists within lists. These allow us to create 2D matrix-like structures useful for multidimensional data. For a simple example, we can create a 2D matrix using nested lists like so:\n",
    "\n",
    "Which is equivalent to the following matrix\n",
    "```python\n",
    "list = [[1, 2, 3], [4, 5, 6], [7, 8, 9]]\n",
    "```\n",
    "Which behaves similarly to the following matrix\n",
    "\n",
    "| 1 | 2 | 3 |\n",
    "|---|---|---|\n",
    "| 4 | 5 | 6 |\n",
    "| 7 | 8 | 9 |\n",
    "\n",
    "To access data from nested lists, you need to use multiple square brackets. For example to access number 1 in the above matrix, we would do the following:"
   ]
  },
  {
   "cell_type": "code",
   "execution_count": null,
   "metadata": {},
   "outputs": [],
   "source": [
    "#initialize 2D matrix with nested lists\n",
    "my_matrix = [[1, 2, 3], [4, 5, 6], [7, 8, 9]]\n",
    "\n",
    "#grab the first nested list\n",
    "print(\"Nested Loop:\", my_matrix[0])\n",
    "\n",
    "#grab the first element of the first nested list\n",
    "print(\"Element from our Nested Loop:\", my_matrix[0][0])"
   ]
  },
  {
   "cell_type": "markdown",
   "metadata": {},
   "source": [
    "#### Exercise 5.1.2: Accessing 2D Lists"
   ]
  },
  {
   "cell_type": "markdown",
   "metadata": {},
   "source": [
    "Given a 5 x 5 matrix provided below, access the following elements of our list/matrix (answer in parentheses):\n",
    "1. The fourth nested list = [16, 17, 18, 19, 20]\n",
    "2. The 4th element in the 3rd list = 14\n",
    "3. The element in the 4th row and 3rd column = 14\n",
    "4. The first two elements in the second row = [6, 7]\n",
    "5. The last two elements in the fourth row = [19, 20]"
   ]
  },
  {
   "cell_type": "code",
   "execution_count": null,
   "metadata": {},
   "outputs": [],
   "source": [
    "#initialize the nested lists: it can often make it easier to read if you put each list/row on a separate line and indent it. It runs exactly the same!\n",
    "my_matrix = [[1,2,3,4,5],\n",
    "             [6,7,8,9,10],\n",
    "             [11,12,13,14,15],\n",
    "             [16,17,18,19,20],\n",
    "             [21,22,23,24,25]]\n",
    "\n",
    "### edit code here ###\n",
    "my_item = my_matrix\n",
    "\n",
    "#print element\n",
    "print(my_item)"
   ]
  },
  {
   "cell_type": "markdown",
   "metadata": {},
   "source": [
    "### Editing Lists"
   ]
  },
  {
   "cell_type": "markdown",
   "metadata": {},
   "source": [
    "Lists are also *mutable*, which means you can change the values of items in a list. For example, whoops, we noticed that our first drug replicate actually had a tumor size of 0.01, not 0.1! How might we change this without having to retype the entire list? Well, like this:"
   ]
  },
  {
   "cell_type": "code",
   "execution_count": null,
   "metadata": {},
   "outputs": [],
   "source": [
    "drug[0] = 0.01\n",
    "print(drug)"
   ]
  },
  {
   "cell_type": "markdown",
   "metadata": {},
   "source": [
    "Similar to strings, we can also perform operations on lists. We can combine lists using the `+` operator, and we can repeat a list a given number of times using the `*` operator."
   ]
  },
  {
   "cell_type": "code",
   "execution_count": null,
   "metadata": {},
   "outputs": [],
   "source": [
    "#print original lists\n",
    "print('Control List:', control)\n",
    "print('Drug List:', drug)\n",
    "\n",
    "#combine two lists into one list\n",
    "combined_data = control + drug\n",
    "print('Combined list:', combined_data)\n",
    "\n",
    "#repeat the list three times\n",
    "repeated_data = [1, 2, 3] * 3\n",
    "print('Repeated list:',  repeated_data)"
   ]
  },
  {
   "cell_type": "markdown",
   "metadata": {},
   "source": [
    "But what if we repeated the same experiment with another mouse and want to add this data to our list? Lists have built-in functions (called __methods__) that are unique to lists. To access these methods, we use the following generic notation: `myList.method(parameters)`. For example, we can use the append() method to add an item to the end of a list. Each time you run this code, you'll add a new item to the list. Try it out!"
   ]
  },
  {
   "cell_type": "code",
   "execution_count": null,
   "metadata": {},
   "outputs": [],
   "source": [
    "drug.append(0.6)\n",
    "drug"
   ]
  },
  {
   "cell_type": "markdown",
   "metadata": {},
   "source": [
    "We can reverse the above (i.e. remove an item from the end of the list) using the pop method. You can also remove a specific value in the list using the remove method."
   ]
  },
  {
   "cell_type": "code",
   "execution_count": null,
   "metadata": {},
   "outputs": [],
   "source": [
    "drug.pop()\n",
    "drug"
   ]
  },
  {
   "cell_type": "code",
   "execution_count": null,
   "metadata": {},
   "outputs": [],
   "source": [
    "drug.remove(0.5)\n",
    "drug"
   ]
  },
  {
   "cell_type": "markdown",
   "metadata": {},
   "source": [
    "For a complete list of all the methods avialable lists, see the below table and the following resource [here](https://docs.python.org/3/tutorial/datastructures.html)\n",
    "\n",
    "\n",
    "| Method | Description | Example Use |\n",
    "| --- | --- | --- |\n",
    "| append | Adds an element at the end of the list | `myList.append(1)` |\n",
    "| pop | Removes and returns element at the indicated index (default is remove last item) | `myList.pop()` |\n",
    "| insert | Adds an element at the specified position | `myList.insert(1, 2) #first element is index to place item in front of`  |\n",
    "| remove | Removes the first item with the specified value | `myList.remove(1)` |\n",
    "| clear | Removes all the elements from the list | `myList.clear()` |\n",
    "| index | Returns the index of the first element with the specified value | `myList.index(1)` |\n",
    "| count | Returns the number of elements with the specified value | `myList.count(1)` |\n",
    "| sort | Sorts the list, in ascending order  | `myList.sort()` |\n",
    "| reverse | Reverses the order of the list | `myList.reverse()` |\n",
    "| copy | Returns a copy of the list | `myList.copy()` |\n"
   ]
  },
  {
   "cell_type": "markdown",
   "metadata": {},
   "source": [
    "#### Exercise 5.1.3: List Manipulation\n",
    "\n",
    "Editing the code where denoted, perform the following tasks:\n",
    "1. Combine the two lists below into a single list and then append the value `25` to the end of the list\n",
    "2. Divide the first element in the list by 5\n",
    "3. Remove the last element in the list\n",
    "\n",
    "The output after completing each task should like like this\n",
    "```\n",
    "Part 1 solution: [5,10,15,20]\n",
    "Part 2 solution: [5,10,15,20,25]\n",
    "Part 3 solution: [1,10,15,20,25]\n",
    "Part 4 solution: [1,10,15,20]\n",
    "```"
   ]
  },
  {
   "cell_type": "code",
   "execution_count": null,
   "metadata": {},
   "outputs": [],
   "source": [
    "first_list = [5, 10]\n",
    "second_list = [15, 20]\n",
    "\n",
    "# Add the two lists together (edit below)\n",
    "combined_list \n",
    "print('Part 1 solution:', combined_list)\n",
    "\n",
    "# Append 25 to the combined list (edit below)\n",
    "combined_list                                      \n",
    "print('Part 2 solution:', combined_list)\n",
    "\n",
    "# Divide the first element of the list by 5 (edit below)\n",
    "combined_list[0]                            \n",
    "print('Part 3 solution:', combined_list)\n",
    "\n",
    "# Remove the last element of the list (edit below)\n",
    "combined_list    \n",
    "print('Part 4 solution:', combined_list)"
   ]
  },
  {
   "cell_type": "markdown",
   "metadata": {},
   "source": [
    "### Membership operators (in)\n",
    "\n",
    "We can use the 'in' operator to check if a value is in a list, which will return a boolean value (Yes it is in the list, No it is not in the list). Let's say we obtained a list of all the proteins associated with a particular signaling pathway. We can check if a protein we are interested is in this list or not with the 'in' operator. Pairing"
   ]
  },
  {
   "cell_type": "code",
   "execution_count": null,
   "metadata": {},
   "outputs": [],
   "source": [
    "#initialize list\n",
    "egfr_signaling_proteins = ['EGF','EGFR', 'GRB2','ERK', 'MEK', 'RAS']\n",
    "\n",
    "#Indicate our protein of interest and check to see if it is in the above list\n",
    "protein_of_interest = 'VEGFR'\n",
    "protein_of_interest in egfr_signaling_proteins"
   ]
  },
  {
   "cell_type": "markdown",
   "metadata": {},
   "source": [
    "You can also combine it with the not operator to check if a value is not in a list (opposite of in)"
   ]
  },
  {
   "cell_type": "code",
   "execution_count": null,
   "metadata": {},
   "outputs": [],
   "source": [
    "protein_of_interest not in egfr_signaling_proteins"
   ]
  },
  {
   "cell_type": "markdown",
   "metadata": {},
   "source": [
    "As you learned with other booleans, you can combine the 'in' operator with conditional statements (if-else) to change the behavior depending on whether our protein belongs to the signaling pathway or not."
   ]
  },
  {
   "cell_type": "code",
   "execution_count": null,
   "metadata": {},
   "outputs": [],
   "source": [
    "if protein_of_interest in egfr_signaling_proteins:\n",
    "    print('Yes, ' + protein_of_interest + ' is in the EGFR signaling pathway!')\n",
    "else:\n",
    "    print('No, ' + protein_of_interest + ' is not in the EGFR signaling pathway!')"
   ]
  },
  {
   "cell_type": "markdown",
   "metadata": {},
   "source": [
    "### A brief mention of other 'List-like' objects in python\n",
    "\n",
    "Within python there are many objects that behave similar to lists, but with slightly different properties. We will not go as in depth with these objects, but it is important to know that they exist and how they differ from lists. These include:\n",
    "- Tuples\n",
    "- Strings\n",
    "- Sets\n",
    "- Dictionaries"
   ]
  },
  {
   "cell_type": "markdown",
   "metadata": {},
   "source": [
    "#### Tuples\n",
    "\n",
    "We mentioned that lists are mutable, meaning we can edit the value of items in the list and add/remove items from the list. However, in some cases, this may not be the desired behavior and you might want to avoid accidentally editing your list. In this case, you can use a tuple, which are immutable versions of lists. Tuples are defined using parentheses instead of square brackets. "
   ]
  },
  {
   "cell_type": "code",
   "execution_count": null,
   "metadata": {},
   "outputs": [],
   "source": [
    "drug = (0.1, 0.5, 0.3)\n",
    "control = (1.5, 1.2, 0.9)"
   ]
  },
  {
   "cell_type": "markdown",
   "metadata": {},
   "source": [
    "We can still access elements of a tuple like a list, but if we try to edit elements, we get an error. Try it with the following code blocks:"
   ]
  },
  {
   "cell_type": "code",
   "execution_count": null,
   "metadata": {},
   "outputs": [],
   "source": [
    "print(drug[0])"
   ]
  },
  {
   "cell_type": "code",
   "execution_count": null,
   "metadata": {},
   "outputs": [],
   "source": [
    "drug[0] = 1"
   ]
  },
  {
   "cell_type": "markdown",
   "metadata": {},
   "source": [
    "But we can still combine tuples with the `+` operator, just like we did with lists and strings:"
   ]
  },
  {
   "cell_type": "code",
   "execution_count": null,
   "metadata": {},
   "outputs": [],
   "source": [
    "myTuple = (1, 1, 1) + (2, 2, 2)\n",
    "print(myTuple)"
   ]
  },
  {
   "cell_type": "markdown",
   "metadata": {},
   "source": [
    "If you have no intention of manipulating your data in any way (adding, subtracting, changing specific values, etc.), it's generally recommended you use a tuple. In fact, if you do any work in R instead of python, you'll find that vectors in R (the equivalent of lists/tuples) are immutable like tuples in python. "
   ]
  },
  {
   "cell_type": "markdown",
   "metadata": {},
   "source": [
    "#### Strings"
   ]
  },
  {
   "cell_type": "markdown",
   "metadata": {},
   "source": [
    "We already discussed strings in a previous lesson, and how operations (`+`, `*`) work with strings. But strings also behave similarly to lists in some other ways. For example, the following string can also be thought of as a list of characters, where individual elements can be accessed by indexing. For the string `'python'`, you can also think of it as `('p', 'y', 't', 'h', 'o', 'n')`. Then, we can access the first element of the string like so:"
   ]
  },
  {
   "cell_type": "code",
   "execution_count": null,
   "metadata": {},
   "outputs": [],
   "source": [
    "my_string = \"python\"\n",
    "print(my_string[0])"
   ]
  },
  {
   "cell_type": "markdown",
   "metadata": {},
   "source": [
    "We can also use slices to get only a part of the string:"
   ]
  },
  {
   "cell_type": "code",
   "execution_count": null,
   "metadata": {},
   "outputs": [],
   "source": [
    "print(my_string[0:4])"
   ]
  },
  {
   "cell_type": "markdown",
   "metadata": {},
   "source": [
    "However, like tuples, strings are immutable. This means that you can't change the value of a single element of string as you can with lists:"
   ]
  },
  {
   "cell_type": "code",
   "execution_count": null,
   "metadata": {},
   "outputs": [],
   "source": [
    "my_string[0] = 'p'"
   ]
  },
  {
   "cell_type": "markdown",
   "metadata": {},
   "source": [
    "Similar to lists, strings have many built-in methods that add additional functionality strings. Feel free to explore these at the python documentation [here](https://docs.python.org/3/library/stdtypes.html#string-methods)."
   ]
  },
  {
   "cell_type": "markdown",
   "metadata": {},
   "source": [
    "#### Sets\n",
    "\n",
    "Sets are *unordered* collections of *unique* elements, making them function quite differentally than lists, tuples, or strings. This means that there is no \"first\" element in a set, and no two elements in a set are the same. Sets are mutable, but since they are unordered, they cannot be indexed. Sets are created using curly braces `{}`. Sets are particularly useful for comparing groups of elements to look for overlap (think venn diagrams).\n",
    "\n",
    "For a quick tutorial on how these work, see this [interactive tutorial](https://www.w3schools.com/python/python_sets.asp)"
   ]
  },
  {
   "cell_type": "markdown",
   "metadata": {},
   "source": [
    "#### Dictionaries\n",
    "\n",
    "Dictionaries are extremely useful in Python programming, but are also fairly unique to python. Dictionaries are a mutable collection like lists, but with __key-value pairs__. This means that rather than accessing elements by their numerical, ordered index, you access elements by their key, usually a string. Dictionaries are defined using curly braces `{}` and colons `:` to separate keys and values."
   ]
  },
  {
   "cell_type": "code",
   "execution_count": null,
   "metadata": {},
   "outputs": [],
   "source": [
    "results = {'control': [0.3,0.5, 0.7], 'drug': [0.5, 0.7, 0.9]}\n",
    "\n",
    "#print the whole dictionary\n",
    "print('Complete Dictionary:', results)\n",
    "\n",
    "#print the value of our 'control'\n",
    "print(\"Control Data:\", results['control'])"
   ]
  },
  {
   "cell_type": "markdown",
   "metadata": {},
   "source": [
    "The value in the key-value pair does not have to be a list. It can be any object. Dictionaries can be very helpful when you have lots of related data that you want to organize/access complex data quickly."
   ]
  }
 ],
 "metadata": {
  "kernelspec": {
   "display_name": "splice",
   "language": "python",
   "name": "python3"
  },
  "language_info": {
   "codemirror_mode": {
    "name": "ipython",
    "version": 3
   },
   "file_extension": ".py",
   "mimetype": "text/x-python",
   "name": "python",
   "nbconvert_exporter": "python",
   "pygments_lexer": "ipython3",
   "version": "3.11.4"
  },
  "orig_nbformat": 4
 },
 "nbformat": 4,
 "nbformat_minor": 2
}
